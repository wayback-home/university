{
 "cells": [
  {
   "cell_type": "markdown",
   "source": [
    "#  데이터과학 프로젝트\n",
    "### 생필품과 기호용품의 물가상승률 비율에 따른 체감물가 분석"
   ],
   "metadata": {
    "collapsed": false
   }
  },
  {
   "cell_type": "code",
   "execution_count": 2,
   "outputs": [],
   "source": [
    "import pandas as pd\n",
    "import matplotlib as plt\n",
    "import numpy as np"
   ],
   "metadata": {
    "collapsed": false
   }
  },
  {
   "cell_type": "code",
   "execution_count": 7,
   "outputs": [
    {
     "name": "stdout",
     "output_type": "stream",
     "text": [
      "2015-02-26.csv\n",
      "'euc_kr' codec can't decode byte 0x9d in position 1596: illegal multibyte sequence\n",
      "2015-02-27.csv\n",
      "'euc_kr' codec can't decode byte 0x9d in position 2510: illegal multibyte sequence\n",
      "2015-02-28.csv\n",
      "'euc_kr' codec can't decode byte 0x9d in position 4808: illegal multibyte sequence\n",
      "2015-03-01.csv\n",
      "'euc_kr' codec can't decode byte 0x9d in position 1953: illegal multibyte sequence\n",
      "2015-03-02.csv\n",
      "'euc_kr' codec can't decode byte 0x9d in position 1850: illegal multibyte sequence\n",
      "2015-03-03.csv\n",
      "'euc_kr' codec can't decode byte 0x9d in position 239: illegal multibyte sequence\n",
      "2015-03-04.csv\n",
      "'euc_kr' codec can't decode byte 0x9d in position 1297: illegal multibyte sequence\n",
      "2015-03-05.csv\n",
      "'euc_kr' codec can't decode byte 0x9d in position 8101: illegal multibyte sequence\n",
      "2015-03-06.csv\n",
      "'euc_kr' codec can't decode byte 0x9d in position 3791: illegal multibyte sequence\n",
      "2015-03-07.csv\n",
      "'euc_kr' codec can't decode byte 0x9d in position 6296: illegal multibyte sequence\n",
      "2015-03-08.csv\n",
      "'euc_kr' codec can't decode byte 0x9d in position 4503: illegal multibyte sequence\n",
      "2015-03-09.csv\n",
      "'euc_kr' codec can't decode byte 0x9d in position 6234: illegal multibyte sequence\n",
      "2015-03-10.csv\n",
      "'euc_kr' codec can't decode byte 0x9d in position 4328: illegal multibyte sequence\n",
      "2015-03-27.csv\n",
      "'euc_kr' codec can't decode byte 0x9f in position 2084: illegal multibyte sequence\n",
      "2015-03-28.csv\n",
      "'euc_kr' codec can't decode byte 0x9f in position 7524: illegal multibyte sequence\n",
      "2015-03-29.csv\n",
      "'euc_kr' codec can't decode byte 0x9f in position 342: illegal multibyte sequence\n",
      "2015-03-30.csv\n",
      "'euc_kr' codec can't decode byte 0x9f in position 2795: illegal multibyte sequence\n",
      "2015-03-31.csv\n",
      "'euc_kr' codec can't decode byte 0x9f in position 5211: illegal multibyte sequence\n",
      "2015-04-01.csv\n",
      "'euc_kr' codec can't decode byte 0x9f in position 7560: illegal multibyte sequence\n",
      "2015-04-02.csv\n",
      "'euc_kr' codec can't decode byte 0x9f in position 6509: illegal multibyte sequence\n",
      "2015-04-03.csv\n",
      "'euc_kr' codec can't decode byte 0x9f in position 6337: illegal multibyte sequence\n",
      "2015-08-26.csv\n",
      "'euc_kr' codec can't decode byte 0x9f in position 663: illegal multibyte sequence\n",
      "2015-09-09.csv\n",
      "'euc_kr' codec can't decode byte 0x9f in position 5468: illegal multibyte sequence\n",
      "2015-09-10.csv\n",
      "'euc_kr' codec can't decode byte 0x9f in position 7477: illegal multibyte sequence\n",
      "2015-09-11.csv\n",
      "'euc_kr' codec can't decode byte 0x9f in position 902: illegal multibyte sequence\n",
      "2015-10-03.csv\n",
      "'euc_kr' codec can't decode byte 0x9f in position 2735: illegal multibyte sequence\n",
      "2015-10-04.csv\n",
      "'euc_kr' codec can't decode byte 0x9f in position 4978: illegal multibyte sequence\n",
      "2015-10-05.csv\n",
      "'euc_kr' codec can't decode byte 0x9f in position 6296: illegal multibyte sequence\n",
      "2015-10-06.csv\n",
      "'euc_kr' codec can't decode byte 0x9f in position 3431: illegal multibyte sequence\n",
      "2015-10-07.csv\n",
      "'euc_kr' codec can't decode byte 0x9f in position 6382: illegal multibyte sequence\n",
      "2015-10-08.csv\n",
      "'euc_kr' codec can't decode byte 0x9f in position 2510: illegal multibyte sequence\n",
      "2015-10-09.csv\n",
      "'euc_kr' codec can't decode byte 0x9f in position 550: illegal multibyte sequence\n",
      "Done\n"
     ]
    }
   ],
   "source": [
    "for year in range(2014,2017,1):\n",
    "    for month in range(1, 13, 1):\n",
    "        for day in range(1,32,1):\n",
    "            try:\n",
    "                data = pd.read_csv(f\"../data/{year:02d}-{month:02d}-{day:02d}.csv\",sep=\",\",engine=\"python\",encoding=\"euc-kr\")\n",
    "            except UnicodeDecodeError as e:\n",
    "                print(f\"{year:02d}-{month:02d}-{day:02d}.csv\")\n",
    "                print(e)\n",
    "            except FileNotFoundError:\n",
    "                pass\n",
    "\n",
    "print(\"Done\")"
   ],
   "metadata": {
    "collapsed": false
   }
  },
  {
   "cell_type": "code",
   "execution_count": 4,
   "outputs": [
    {
     "name": "stdout",
     "output_type": "stream",
     "text": [
      "0        습기제거제\n",
      "1           치약\n",
      "2          화장지\n",
      "3        구강세정제\n",
      "4          아동화\n",
      "         ...  \n",
      "83452      고구마\n",
      "83453      면도기\n",
      "83454      참기름\n",
      "83455       된장\n",
      "83456      NaN\n",
      "Name: pum_name, Length: 83457, dtype: object\n",
      "0         4650.0\n",
      "1          770.0\n",
      "2         5800.0\n",
      "3         7800.0\n",
      "4        57140.0\n",
      "          ...   \n",
      "83452     9900.0\n",
      "83453    10900.0\n",
      "83454    40000.0\n",
      "83455    36230.0\n",
      "83456        NaN\n",
      "Name: sales_price, Length: 83457, dtype: float64\n"
     ]
    }
   ],
   "source": [
    "# print(data)\n",
    "print(data[\"pum_name\"])\n",
    "print(data[\"sales_price\"])"
   ],
   "metadata": {
    "collapsed": false
   }
  }
 ],
 "metadata": {
  "kernelspec": {
   "display_name": "Python 3",
   "language": "python",
   "name": "python3"
  },
  "language_info": {
   "codemirror_mode": {
    "name": "ipython",
    "version": 2
   },
   "file_extension": ".py",
   "mimetype": "text/x-python",
   "name": "python",
   "nbconvert_exporter": "python",
   "pygments_lexer": "ipython2",
   "version": "2.7.6"
  }
 },
 "nbformat": 4,
 "nbformat_minor": 0
}
