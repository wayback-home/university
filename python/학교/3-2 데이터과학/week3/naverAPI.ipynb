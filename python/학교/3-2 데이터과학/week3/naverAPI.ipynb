{
 "cells": [
  {
   "cell_type": "code",
   "execution_count": 1,
   "metadata": {},
   "outputs": [],
   "source": [
    "import urllib.request\n",
    "import datetime\n",
    "import json\n",
    "import ssl\n",
    "\n",
    "context = ssl._create_unverified_context()\n",
    "\n",
    "client_id = \"_gJra_F38hGKFUClmgh3\"\n",
    "client_secret = \"8wTUNbdKRV\"\n",
    "\n",
    "\n",
    "\n",
    "\n"
   ]
  },
  {
   "cell_type": "code",
   "execution_count": 2,
   "metadata": {},
   "outputs": [],
   "source": [
    "# [CODE 1]\n",
    "def getRequestUrl(url):\n",
    "    req = urllib.request.Request(url)\n",
    "    req.add_header(\"X-Naver-Client-Id\", client_id)\n",
    "    req.add_header(\"X-Naver-Client-Secret\", client_secret)\n",
    "\n",
    "    try:\n",
    "        response = urllib.request.urlopen(req,context=context)\n",
    "        if response.getcode() == 200:\n",
    "            print(\"[%s] Url Request Success\" % datetime.datetime.now())\n",
    "            return response.read().decode(\"utf-8\")\n",
    "    except Exception as e:\n",
    "        print(e)\n",
    "        print(\"[%s] Error for URL : %s\" % (datetime.datetime.now(), url))\n",
    "        return None"
   ]
  },
  {
   "cell_type": "code",
   "execution_count": 3,
   "metadata": {},
   "outputs": [],
   "source": [
    "# [CODE 2]\n",
    "def getNaverSearch(node, srcText, start, display):\n",
    "    base = \"https://openapi.naver.com/v1/search\"\n",
    "    node = \"/%s.json\" % node\n",
    "    # query ~ display에 띄어쓰기 전부 제거시 URL에러는 해결, 다른 에러 발생\n",
    "    # 48Line pDate의 출력방식 수정으로 다른 에러 해결\n",
    "    parameters = \"?query=%s&start=%s&display=%s\" % (\n",
    "        urllib.parse.quote(srcText),\n",
    "        start,\n",
    "        display,\n",
    "    )\n",
    "\n",
    "    url = base + node + parameters\n",
    "    responseDecode = getRequestUrl(url)  # [CODE 1]\n",
    "\n",
    "    if responseDecode == None:\n",
    "        return None\n",
    "    else:\n",
    "        return json.loads(responseDecode)\n"
   ]
  },
  {
   "cell_type": "code",
   "execution_count": 4,
   "metadata": {},
   "outputs": [],
   "source": [
    "# [CODE 3]\n",
    "def getPostData(post, jsonResult, cnt):\n",
    "    title = post[\"title\"]\n",
    "    description = post[\"description\"]\n",
    "    org_link = post[\"originallink\"]\n",
    "    link = post[\"link\"]\n",
    "\n",
    "    pDate = datetime.datetime.strptime(post[\"pubDate\"], \"%a, %d %b %Y %H:%M:%S +0900\")\n",
    "    pDate = pDate.strftime(\"%Y-%m-%d %H:%M:%S\")\n",
    "\n",
    "    jsonResult.append(\n",
    "        {\n",
    "            \"cnt\": cnt,\n",
    "            \"title\": title,\n",
    "            \"description\": description,\n",
    "            \"org_link\": org_link,\n",
    "            \"link\": org_link,\n",
    "            \"pDate\": pDate,\n",
    "        }\n",
    "    )\n",
    "    return\n"
   ]
  },
  {
   "cell_type": "code",
   "execution_count": 5,
   "metadata": {},
   "outputs": [],
   "source": [
    "# [CODE 0]\n",
    "def main():\n",
    "    node = \"news\"  # 크롤링할 대상\n",
    "    srcText = input(\"검색어를 입력하세요: \")\n",
    "    cnt = 0\n",
    "    jsonResult = []\n",
    "    jsonResponse = getNaverSearch(node, srcText, 1, 100)  # [CODE 2]\n",
    "    total = jsonResponse[\"total\"]\n",
    "    while (jsonResponse != None) and (jsonResponse[\"display\"] != 0):\n",
    "        for post in jsonResponse[\"items\"]:\n",
    "            cnt += 1\n",
    "            getPostData(post, jsonResult, cnt)  # [CODE 3]\n",
    "\n",
    "        start = jsonResponse[\"start\"] + jsonResponse[\"display\"]\n",
    "        jsonResponse = getNaverSearch(node, srcText, start, 100)  # [CODE 2]\n",
    "\n",
    "    print(\"전체 검색 : %d 건\" % total)\n",
    "\n",
    "    with open(\"%s_naver_%s.json\" % (srcText, node), \"w\", encoding=\"utf8\") as outfile:\n",
    "        jsonFile = json.dumps(jsonResult, indent=4, sort_keys=True, ensure_ascii=False)\n",
    "\n",
    "        outfile.write(jsonFile)\n",
    "\n",
    "    print(\"가져온 데이터 : %d 건\" % (cnt))\n",
    "    print(\"%s_naver_%s.json SAVED\" % (srcText, node))\n"
   ]
  },
  {
   "cell_type": "code",
   "execution_count": 6,
   "metadata": {},
   "outputs": [
    {
     "name": "stdout",
     "output_type": "stream",
     "text": [
      "[2022-10-17 21:49:17.615014] Url Request Success\n",
      "[2022-10-17 21:49:17.819514] Url Request Success\n",
      "[2022-10-17 21:49:18.020587] Url Request Success\n",
      "[2022-10-17 21:49:18.225574] Url Request Success\n",
      "[2022-10-17 21:49:18.437891] Url Request Success\n",
      "[2022-10-17 21:49:18.659460] Url Request Success\n",
      "[2022-10-17 21:49:18.869664] Url Request Success\n",
      "[2022-10-17 21:49:19.114862] Url Request Success\n",
      "[2022-10-17 21:49:19.356592] Url Request Success\n",
      "[2022-10-17 21:49:19.579002] Url Request Success\n",
      "HTTP Error 400: Bad Request\n",
      "[2022-10-17 21:49:19.646524] Error for URL : https://openapi.naver.com/v1/search/news.json?query=%EB%82%A0%EC%94%A8&start=1001&display=100\n",
      "전체 검색 : 2804583 건\n",
      "가져온 데이터 : 1000 건\n",
      "날씨_naver_news.json SAVED\n"
     ]
    }
   ],
   "source": [
    "if __name__ == \"__main__\":\n",
    "    main()"
   ]
  }
 ],
 "metadata": {
  "kernelspec": {
   "display_name": "Python 3.7.13 ('tensorflow')",
   "language": "python",
   "name": "python3"
  },
  "language_info": {
   "codemirror_mode": {
    "name": "ipython",
    "version": 3
   },
   "file_extension": ".py",
   "mimetype": "text/x-python",
   "name": "python",
   "nbconvert_exporter": "python",
   "pygments_lexer": "ipython3",
   "version": "3.7.13"
  },
  "orig_nbformat": 4,
  "vscode": {
   "interpreter": {
    "hash": "6e39840d04b079b2aa8400e5db30cffeba95ea714853962accf5f0802810473c"
   }
  }
 },
 "nbformat": 4,
 "nbformat_minor": 2
}
