{
 "cells": [
  {
   "cell_type": "markdown",
   "source": [
    "#  데이터과학 프로젝트\n",
    "### 생필품과 기호용품의 물가상승률 비율에 따른 체감물가 분석"
   ],
   "metadata": {
    "collapsed": false
   }
  },
  {
   "cell_type": "code",
   "execution_count": 2,
   "outputs": [],
   "source": [
    "import pandas as pd\n",
    "import matplotlib as plt\n",
    "import numpy as np"
   ],
   "metadata": {
    "collapsed": false
   }
  },
  {
   "cell_type": "code",
   "execution_count": 3,
   "outputs": [
    {
     "name": "stdout",
     "output_type": "stream",
     "text": [
      "Done\n"
     ]
    }
   ],
   "source": [
    "for year in range(2014,2017,1):\n",
    "    for month in range(1, 13, 1):\n",
    "        for day in range(1,32,1):\n",
    "            try:\n",
    "                data = pd.read_csv(f\"../data/{year}-{month}-{day}.csv\",sep=\",\",engine=\"python\",encoding=\"euc-kr\")\n",
    "            except UnicodeDecodeError as e:\n",
    "                print(year, \"-\", month , \"-\" , day)\n",
    "                print(e)\n",
    "            except FileNotFoundError:\n",
    "                pass\n",
    "\n",
    "print(\"Done\")"
   ],
   "metadata": {
    "collapsed": false
   }
  },
  {
   "cell_type": "code",
   "execution_count": 4,
   "outputs": [
    {
     "name": "stdout",
     "output_type": "stream",
     "text": [
      "0        습기제거제\n",
      "1           치약\n",
      "2          화장지\n",
      "3        구강세정제\n",
      "4          아동화\n",
      "         ...  \n",
      "83452      고구마\n",
      "83453      면도기\n",
      "83454      참기름\n",
      "83455       된장\n",
      "83456      NaN\n",
      "Name: pum_name, Length: 83457, dtype: object\n",
      "0         4650.0\n",
      "1          770.0\n",
      "2         5800.0\n",
      "3         7800.0\n",
      "4        57140.0\n",
      "          ...   \n",
      "83452     9900.0\n",
      "83453    10900.0\n",
      "83454    40000.0\n",
      "83455    36230.0\n",
      "83456        NaN\n",
      "Name: sales_price, Length: 83457, dtype: float64\n"
     ]
    }
   ],
   "source": [
    "# print(data)\n",
    "print(data[\"pum_name\"])\n",
    "print(data[\"sales_price\"])"
   ],
   "metadata": {
    "collapsed": false
   }
  }
 ],
 "metadata": {
  "kernelspec": {
   "display_name": "Python 3",
   "language": "python",
   "name": "python3"
  },
  "language_info": {
   "codemirror_mode": {
    "name": "ipython",
    "version": 2
   },
   "file_extension": ".py",
   "mimetype": "text/x-python",
   "name": "python",
   "nbconvert_exporter": "python",
   "pygments_lexer": "ipython2",
   "version": "2.7.6"
  }
 },
 "nbformat": 4,
 "nbformat_minor": 0
}
