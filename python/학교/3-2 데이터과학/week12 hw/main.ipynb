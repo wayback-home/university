{
 "cells": [
  {
   "cell_type": "code",
   "execution_count": 78,
   "metadata": {},
   "outputs": [],
   "source": [
    "import urllib.request\n",
    "from bs4 import BeautifulSoup\n",
    "\n"
   ]
  },
  {
   "cell_type": "code",
   "execution_count": 86,
   "metadata": {},
   "outputs": [],
   "source": [
    "# 범죄도시1\n",
    "result1 = []\n",
    "for page in range(1, 100, 1):\n",
    "    url = (\n",
    "        f\"https://movie.naver.com/movie/bi/mi/review.naver%3Fcode%3D161242&page={page}\"\n",
    "    )\n",
    "    openURL = urllib.request.urlopen(url)\n",
    "    html = BeautifulSoup(openURL, \"html.parser\")\n",
    "    li_html = html.find_all(\"li\")\n",
    "\n",
    "    for index in range(27, 37, 1):  # 리뷰 -> 27 ~ 36\n",
    "        try:\n",
    "            getReview: str = li_html[index].find(\"strong\").string\n",
    "            getContents: str = li_html[index].find(\"p\").string\n",
    "            # print(getReview)\n",
    "            # print(getContents)\n",
    "\n",
    "            result1.append([getReview] + [getContents])\n",
    "        except AttributeError:\n",
    "            break\n",
    "\n",
    "# 범죄도시2\n",
    "result2 = []\n",
    "for page in range(1, 13, 1):\n",
    "    url = (\n",
    "        f\"https://movie.naver.com/movie/bi/mi/review.naver?code=192608&page={page}\"\n",
    "    )\n",
    "    openURL = urllib.request.urlopen(url)\n",
    "    html = BeautifulSoup(openURL, \"html.parser\")\n",
    "    li_html = html.find_all(\"li\")\n",
    "\n",
    "    for index in range(27, 37, 1):  # 리뷰 -> 27 ~ 36\n",
    "        try:\n",
    "            getReview: str = li_html[index].find(\"strong\").string\n",
    "            getContents: str = li_html[index].find(\"p\").string\n",
    "            # print(getReview)\n",
    "            # print(getContents)\n",
    "\n",
    "            result2.append([getReview] + [getContents])\n",
    "        except AttributeError:\n",
    "            break\n",
    "\n"
   ]
  },
  {
   "cell_type": "code",
   "execution_count": 87,
   "metadata": {},
   "outputs": [],
   "source": [
    "\n",
    "import pandas as pd\n",
    "\n",
    "review1 = pd.DataFrame(result1, columns=([\"review\",\"contents\"]))\n",
    "review2 = pd.DataFrame(result2, columns=([\"review\",\"contents\"]))\n",
    "# print(result[0])"
   ]
  },
  {
   "cell_type": "code",
   "execution_count": 88,
   "metadata": {},
   "outputs": [],
   "source": [
    "review1.to_csv(path_or_buf=\"./review.txt\",sep=\",\",encoding=\"utf8\",)\n",
    "review2.to_csv(path_or_buf=\"./review.txt\",sep=\",\",encoding=\"utf8\",)"
   ]
  },
  {
   "cell_type": "code",
   "execution_count": 90,
   "metadata": {},
   "outputs": [
    {
     "data": {
      "text/html": [
       "<div>\n",
       "<style scoped>\n",
       "    .dataframe tbody tr th:only-of-type {\n",
       "        vertical-align: middle;\n",
       "    }\n",
       "\n",
       "    .dataframe tbody tr th {\n",
       "        vertical-align: top;\n",
       "    }\n",
       "\n",
       "    .dataframe thead th {\n",
       "        text-align: right;\n",
       "    }\n",
       "</style>\n",
       "<table border=\"1\" class=\"dataframe\">\n",
       "  <thead>\n",
       "    <tr style=\"text-align: right;\">\n",
       "      <th></th>\n",
       "      <th>review</th>\n",
       "      <th>contents</th>\n",
       "    </tr>\n",
       "  </thead>\n",
       "  <tbody>\n",
       "    <tr>\n",
       "      <th>0</th>\n",
       "      <td>범죄도시 시사회 다녀와서 느낀 진짜 실화 평 드립니다.</td>\n",
       "      <td>범죄도시 시사회 다녀와서 느낀 진짜 실화 평 드립니다.어제 잠실 롯데월드몰 저녁 6...</td>\n",
       "    </tr>\n",
       "    <tr>\n",
       "      <th>1</th>\n",
       "      <td>진짜 재미없음</td>\n",
       "      <td>누가 베테랑급이랬니? 니 그라믄 아이댄다연출이 개떡같은데 마동석이라는 캐릭터로 억지...</td>\n",
       "    </tr>\n",
       "    <tr>\n",
       "      <th>2</th>\n",
       "      <td>범죄도시 : 마동석씨와 윤계상씨가 간신히 떠받치고 있었던 청불 조폭 영화</td>\n",
       "      <td>강윤성 감독 / 121분 / 청소년 관람불가마동석, 윤계상, 조재윤, 최귀화, 임형...</td>\n",
       "    </tr>\n",
       "    <tr>\n",
       "      <th>3</th>\n",
       "      <td>[범죄도시 VIP 시사회 후기] 진짜 대박대박 !!!</td>\n",
       "      <td>범죄도시 시사회 다녀왔어요!솔직히 이거 시사회 가자고했을 땐 별 기대 안했는데......</td>\n",
       "    </tr>\n",
       "    <tr>\n",
       "      <th>4</th>\n",
       "      <td>기대이상! 킬링타임용으로 생각했는데 대작에 낚임</td>\n",
       "      <td>마요미와 윤계상 ㅋㅋㅋㅋㅋㅋㅋㅋㅋㅋㅋ아오 포스터랑 예고편이 다 못살림 ㅠㅠ같이본 ...</td>\n",
       "    </tr>\n",
       "    <tr>\n",
       "      <th>...</th>\n",
       "      <td>...</td>\n",
       "      <td>...</td>\n",
       "    </tr>\n",
       "    <tr>\n",
       "      <th>981</th>\n",
       "      <td>범죄도시 후기: 장르가 마동석</td>\n",
       "      <td>이것도 추석특선영화로 봤다 ㅋㅋ요즘 특선영화 엄청 좋아진듯 乃 경찰 아닌거 같아 ...</td>\n",
       "    </tr>\n",
       "    <tr>\n",
       "      <th>982</th>\n",
       "      <td>[2017-163] 범죄도시</td>\n",
       "      <td>범죄도시      감독   강윤성   출연   마동석, 윤계상   개...</td>\n",
       "    </tr>\n",
       "    <tr>\n",
       "      <th>983</th>\n",
       "      <td>범죄도시</td>\n",
       "      <td>범죄도시      감독   강윤성   출연   마동석, 윤계상   개봉...</td>\n",
       "    </tr>\n",
       "    <tr>\n",
       "      <th>984</th>\n",
       "      <td>[액션영화] 범죄도시 (THE OUTLAWS, 2017) 줄거리 및 리뷰/스포주의</td>\n",
       "      <td>범죄도시 (THE OUTLAWS, 2017)줄거리 및 리뷰본 포스팅 후기에는 영화...</td>\n",
       "    </tr>\n",
       "    <tr>\n",
       "      <th>985</th>\n",
       "      <td>M194 - 범죄도시: 마동석의 통쾌하고 묵직한 손바닥 액션!</td>\n",
       "      <td>범죄도시      감독   강윤성   출연   마동석, 윤계상   개봉...</td>\n",
       "    </tr>\n",
       "  </tbody>\n",
       "</table>\n",
       "<p>986 rows × 2 columns</p>\n",
       "</div>"
      ],
      "text/plain": [
       "                                            review  \\\n",
       "0                   범죄도시 시사회 다녀와서 느낀 진짜 실화 평 드립니다.   \n",
       "1                                          진짜 재미없음   \n",
       "2         범죄도시 : 마동석씨와 윤계상씨가 간신히 떠받치고 있었던 청불 조폭 영화   \n",
       "3                    [범죄도시 VIP 시사회 후기] 진짜 대박대박 !!!   \n",
       "4                       기대이상! 킬링타임용으로 생각했는데 대작에 낚임   \n",
       "..                                             ...   \n",
       "981                               범죄도시 후기: 장르가 마동석   \n",
       "982                                [2017-163] 범죄도시   \n",
       "983                                           범죄도시   \n",
       "984  [액션영화] 범죄도시 (THE OUTLAWS, 2017) 줄거리 및 리뷰/스포주의   \n",
       "985             M194 - 범죄도시: 마동석의 통쾌하고 묵직한 손바닥 액션!   \n",
       "\n",
       "                                              contents  \n",
       "0    범죄도시 시사회 다녀와서 느낀 진짜 실화 평 드립니다.어제 잠실 롯데월드몰 저녁 6...  \n",
       "1    누가 베테랑급이랬니? 니 그라믄 아이댄다연출이 개떡같은데 마동석이라는 캐릭터로 억지...  \n",
       "2    강윤성 감독 / 121분 / 청소년 관람불가마동석, 윤계상, 조재윤, 최귀화, 임형...  \n",
       "3    범죄도시 시사회 다녀왔어요!솔직히 이거 시사회 가자고했을 땐 별 기대 안했는데......  \n",
       "4     마요미와 윤계상 ㅋㅋㅋㅋㅋㅋㅋㅋㅋㅋㅋ아오 포스터랑 예고편이 다 못살림 ㅠㅠ같이본 ...  \n",
       "..                                                 ...  \n",
       "981   이것도 추석특선영화로 봤다 ㅋㅋ요즘 특선영화 엄청 좋아진듯 乃 경찰 아닌거 같아 ...  \n",
       "982          범죄도시      감독   강윤성   출연   마동석, 윤계상   개...  \n",
       "983         범죄도시      감독   강윤성   출연   마동석, 윤계상   개봉...  \n",
       "984   범죄도시 (THE OUTLAWS, 2017)줄거리 및 리뷰본 포스팅 후기에는 영화...  \n",
       "985         범죄도시      감독   강윤성   출연   마동석, 윤계상   개봉...  \n",
       "\n",
       "[986 rows x 2 columns]"
      ]
     },
     "execution_count": 90,
     "metadata": {},
     "output_type": "execute_result"
    }
   ],
   "source": [
    "review1"
   ]
  },
  {
   "cell_type": "code",
   "execution_count": 91,
   "metadata": {},
   "outputs": [
    {
     "data": {
      "text/html": [
       "<div>\n",
       "<style scoped>\n",
       "    .dataframe tbody tr th:only-of-type {\n",
       "        vertical-align: middle;\n",
       "    }\n",
       "\n",
       "    .dataframe tbody tr th {\n",
       "        vertical-align: top;\n",
       "    }\n",
       "\n",
       "    .dataframe thead th {\n",
       "        text-align: right;\n",
       "    }\n",
       "</style>\n",
       "<table border=\"1\" class=\"dataframe\">\n",
       "  <thead>\n",
       "    <tr style=\"text-align: right;\">\n",
       "      <th></th>\n",
       "      <th>review</th>\n",
       "      <th>contents</th>\n",
       "    </tr>\n",
       "  </thead>\n",
       "  <tbody>\n",
       "    <tr>\n",
       "      <th>0</th>\n",
       "      <td>내가 손석구다! 마동석 나와! 윤계상의 전작을 뛰어넘는 영화 범죄도시2, 실화 필리...</td>\n",
       "      <td>박스오피스 6,879,841명으로 역대 박스오피스 47위(2022년 6월 기준)를 ...</td>\n",
       "    </tr>\n",
       "    <tr>\n",
       "      <th>1</th>\n",
       "      <td>[스포 x] 걱정마세요, 마동석입니다. : 범죄도시2(2022) 메가박스 회원 시사...</td>\n",
       "      <td>cgv와 메가박스 모두 범죄도시2 시사회를 진행하길래 두 개 다 신청했는데 신기하게...</td>\n",
       "    </tr>\n",
       "    <tr>\n",
       "      <th>2</th>\n",
       "      <td>[범죄도시2]&lt;시사회&gt;(34번째) 아는 맛이 무서운 법!! 1편 능가할듯?!</td>\n",
       "      <td>20220511코엑스 메가박스 9-N-8익무 시사회4.3/5 \"느낌 오지? 이 놈 ...</td>\n",
       "    </tr>\n",
       "    <tr>\n",
       "      <th>3</th>\n",
       "      <td>영화 범죄도시2 줄거리 결말 손석구 악당이지만 매력적이다</td>\n",
       "      <td>영화 범죄도시2 줄거리 결말 손석구 악당이지만 매력적이다지난 주말 오랜만에 와이프랑...</td>\n",
       "    </tr>\n",
       "    <tr>\n",
       "      <th>4</th>\n",
       "      <td>영화 범죄도시2 [가족영화추천]</td>\n",
       "      <td>범죄도시2      감독   이상용   출연   마동석, 손석구, 최귀...</td>\n",
       "    </tr>\n",
       "    <tr>\n",
       "      <th>...</th>\n",
       "      <td>...</td>\n",
       "      <td>...</td>\n",
       "    </tr>\n",
       "    <tr>\n",
       "      <th>107</th>\n",
       "      <td>냉정하게 1편이 여러모로 재밌고 훨씬 잘 만들었다 [범죄도시2]</td>\n",
       "      <td>일단 대부분의 영화들이 전작만은 못하다는 평가를 하지만 '범죄도시 2'는 그나마 전...</td>\n",
       "    </tr>\n",
       "    <tr>\n",
       "      <th>108</th>\n",
       "      <td>범죄도시2</td>\n",
       "      <td>범죄도시2      감독   이상용   출연   마동석, 손석구, 최귀...</td>\n",
       "    </tr>\n",
       "    <tr>\n",
       "      <th>109</th>\n",
       "      <td>[6.1~5 국내 박스오피스] 범죄도시2,공룡들마저 꺾다</td>\n",
       "      <td>범죄도시2      감독   이상용   출연   마동석, 손석구, 최귀...</td>\n",
       "    </tr>\n",
       "    <tr>\n",
       "      <th>110</th>\n",
       "      <td>영화 범죄도시2 후기</td>\n",
       "      <td>범죄도시2      감독   이상용   출연   마동석, 손석구, 최귀...</td>\n",
       "    </tr>\n",
       "    <tr>\n",
       "      <th>111</th>\n",
       "      <td>범죄도시 2</td>\n",
       "      <td>범죄도시2      감독   이상용   출연   마동석, 손석구, 최귀...</td>\n",
       "    </tr>\n",
       "  </tbody>\n",
       "</table>\n",
       "<p>112 rows × 2 columns</p>\n",
       "</div>"
      ],
      "text/plain": [
       "                                                review  \\\n",
       "0    내가 손석구다! 마동석 나와! 윤계상의 전작을 뛰어넘는 영화 범죄도시2, 실화 필리...   \n",
       "1    [스포 x] 걱정마세요, 마동석입니다. : 범죄도시2(2022) 메가박스 회원 시사...   \n",
       "2           [범죄도시2]<시사회>(34번째) 아는 맛이 무서운 법!! 1편 능가할듯?!   \n",
       "3                      영화 범죄도시2 줄거리 결말 손석구 악당이지만 매력적이다   \n",
       "4                                    영화 범죄도시2 [가족영화추천]   \n",
       "..                                                 ...   \n",
       "107                냉정하게 1편이 여러모로 재밌고 훨씬 잘 만들었다 [범죄도시2]   \n",
       "108                                              범죄도시2   \n",
       "109                   [6.1~5 국내 박스오피스] 범죄도시2,공룡들마저 꺾다    \n",
       "110                                        영화 범죄도시2 후기   \n",
       "111                                             범죄도시 2   \n",
       "\n",
       "                                              contents  \n",
       "0    박스오피스 6,879,841명으로 역대 박스오피스 47위(2022년 6월 기준)를 ...  \n",
       "1    cgv와 메가박스 모두 범죄도시2 시사회를 진행하길래 두 개 다 신청했는데 신기하게...  \n",
       "2    20220511코엑스 메가박스 9-N-8익무 시사회4.3/5 \"느낌 오지? 이 놈 ...  \n",
       "3    영화 범죄도시2 줄거리 결말 손석구 악당이지만 매력적이다지난 주말 오랜만에 와이프랑...  \n",
       "4           범죄도시2      감독   이상용   출연   마동석, 손석구, 최귀...  \n",
       "..                                                 ...  \n",
       "107  일단 대부분의 영화들이 전작만은 못하다는 평가를 하지만 '범죄도시 2'는 그나마 전...  \n",
       "108         범죄도시2      감독   이상용   출연   마동석, 손석구, 최귀...  \n",
       "109         범죄도시2      감독   이상용   출연   마동석, 손석구, 최귀...  \n",
       "110         범죄도시2      감독   이상용   출연   마동석, 손석구, 최귀...  \n",
       "111         범죄도시2      감독   이상용   출연   마동석, 손석구, 최귀...  \n",
       "\n",
       "[112 rows x 2 columns]"
      ]
     },
     "execution_count": 91,
     "metadata": {},
     "output_type": "execute_result"
    }
   ],
   "source": [
    "review2"
   ]
  },
  {
   "cell_type": "code",
   "execution_count": 32,
   "metadata": {},
   "outputs": [],
   "source": [
    "import os\n",
    "os.environ[\"PYTHONIOENCODING\"] = \"utf-8\""
   ]
  },
  {
   "cell_type": "code",
   "execution_count": 33,
   "metadata": {},
   "outputs": [],
   "source": [
    "import warnings\n",
    "warnings.filterwarnings(action='ignore')"
   ]
  },
  {
   "cell_type": "code",
   "execution_count": 35,
   "metadata": {},
   "outputs": [
    {
     "data": {
      "text/html": [
       "<div>\n",
       "<style scoped>\n",
       "    .dataframe tbody tr th:only-of-type {\n",
       "        vertical-align: middle;\n",
       "    }\n",
       "\n",
       "    .dataframe tbody tr th {\n",
       "        vertical-align: top;\n",
       "    }\n",
       "\n",
       "    .dataframe thead th {\n",
       "        text-align: right;\n",
       "    }\n",
       "</style>\n",
       "<table border=\"1\" class=\"dataframe\">\n",
       "  <thead>\n",
       "    <tr style=\"text-align: right;\">\n",
       "      <th></th>\n",
       "      <th>id</th>\n",
       "      <th>document</th>\n",
       "      <th>label</th>\n",
       "    </tr>\n",
       "  </thead>\n",
       "  <tbody>\n",
       "    <tr>\n",
       "      <th>0</th>\n",
       "      <td>9976970</td>\n",
       "      <td>아 더빙.. 진짜 짜증나네요 목소리</td>\n",
       "      <td>0</td>\n",
       "    </tr>\n",
       "    <tr>\n",
       "      <th>1</th>\n",
       "      <td>3819312</td>\n",
       "      <td>흠...포스터보고 초딩영화줄....오버연기조차 가볍지 않구나</td>\n",
       "      <td>1</td>\n",
       "    </tr>\n",
       "    <tr>\n",
       "      <th>2</th>\n",
       "      <td>10265843</td>\n",
       "      <td>너무재밓었다그래서보는것을추천한다</td>\n",
       "      <td>0</td>\n",
       "    </tr>\n",
       "    <tr>\n",
       "      <th>3</th>\n",
       "      <td>9045019</td>\n",
       "      <td>교도소 이야기구먼 ..솔직히 재미는 없다..평점 조정</td>\n",
       "      <td>0</td>\n",
       "    </tr>\n",
       "    <tr>\n",
       "      <th>4</th>\n",
       "      <td>6483659</td>\n",
       "      <td>사이몬페그의 익살스런 연기가 돋보였던 영화!스파이더맨에서 늙어보이기만 했던 커스틴 ...</td>\n",
       "      <td>1</td>\n",
       "    </tr>\n",
       "  </tbody>\n",
       "</table>\n",
       "</div>"
      ],
      "text/plain": [
       "         id                                           document  label\n",
       "0   9976970                                아 더빙.. 진짜 짜증나네요 목소리      0\n",
       "1   3819312                  흠...포스터보고 초딩영화줄....오버연기조차 가볍지 않구나      1\n",
       "2  10265843                                  너무재밓었다그래서보는것을추천한다      0\n",
       "3   9045019                      교도소 이야기구먼 ..솔직히 재미는 없다..평점 조정      0\n",
       "4   6483659  사이몬페그의 익살스런 연기가 돋보였던 영화!스파이더맨에서 늙어보이기만 했던 커스틴 ...      1"
      ]
     },
     "execution_count": 35,
     "metadata": {},
     "output_type": "execute_result"
    }
   ],
   "source": [
    "nsmc_train_df = pd.read_csv('/Users/choeyeongseo/Documents/ubuntu/python/학교/3-2 데이터과학/week12/13장_data/ratings_train.txt', encoding='utf8', sep='\\t', engine='python')\n",
    "nsmc_train_df.head()"
   ]
  },
  {
   "cell_type": "code",
   "execution_count": 36,
   "metadata": {},
   "outputs": [],
   "source": [
    "nsmc_train_df = nsmc_train_df[nsmc_train_df['document'].notnull()]"
   ]
  },
  {
   "cell_type": "code",
   "execution_count": 37,
   "metadata": {
    "scrolled": true
   },
   "outputs": [
    {
     "data": {
      "text/plain": [
       "0    75170\n",
       "1    74825\n",
       "Name: label, dtype: int64"
      ]
     },
     "execution_count": 37,
     "metadata": {},
     "output_type": "execute_result"
    }
   ],
   "source": [
    "nsmc_train_df['label'].value_counts()"
   ]
  },
  {
   "cell_type": "code",
   "execution_count": 38,
   "metadata": {},
   "outputs": [],
   "source": [
    "import re"
   ]
  },
  {
   "cell_type": "code",
   "execution_count": 39,
   "metadata": {
    "scrolled": true
   },
   "outputs": [
    {
     "data": {
      "text/html": [
       "<div>\n",
       "<style scoped>\n",
       "    .dataframe tbody tr th:only-of-type {\n",
       "        vertical-align: middle;\n",
       "    }\n",
       "\n",
       "    .dataframe tbody tr th {\n",
       "        vertical-align: top;\n",
       "    }\n",
       "\n",
       "    .dataframe thead th {\n",
       "        text-align: right;\n",
       "    }\n",
       "</style>\n",
       "<table border=\"1\" class=\"dataframe\">\n",
       "  <thead>\n",
       "    <tr style=\"text-align: right;\">\n",
       "      <th></th>\n",
       "      <th>id</th>\n",
       "      <th>document</th>\n",
       "      <th>label</th>\n",
       "    </tr>\n",
       "  </thead>\n",
       "  <tbody>\n",
       "    <tr>\n",
       "      <th>0</th>\n",
       "      <td>9976970</td>\n",
       "      <td>아 더빙  진짜 짜증나네요 목소리</td>\n",
       "      <td>0</td>\n",
       "    </tr>\n",
       "    <tr>\n",
       "      <th>1</th>\n",
       "      <td>3819312</td>\n",
       "      <td>흠 포스터보고 초딩영화줄 오버연기조차 가볍지 않구나</td>\n",
       "      <td>1</td>\n",
       "    </tr>\n",
       "    <tr>\n",
       "      <th>2</th>\n",
       "      <td>10265843</td>\n",
       "      <td>너무재밓었다그래서보는것을추천한다</td>\n",
       "      <td>0</td>\n",
       "    </tr>\n",
       "    <tr>\n",
       "      <th>3</th>\n",
       "      <td>9045019</td>\n",
       "      <td>교도소 이야기구먼  솔직히 재미는 없다 평점 조정</td>\n",
       "      <td>0</td>\n",
       "    </tr>\n",
       "    <tr>\n",
       "      <th>4</th>\n",
       "      <td>6483659</td>\n",
       "      <td>사이몬페그의 익살스런 연기가 돋보였던 영화 스파이더맨에서 늙어보이기만 했던 커스틴 ...</td>\n",
       "      <td>1</td>\n",
       "    </tr>\n",
       "  </tbody>\n",
       "</table>\n",
       "</div>"
      ],
      "text/plain": [
       "         id                                           document  label\n",
       "0   9976970                                 아 더빙  진짜 짜증나네요 목소리      0\n",
       "1   3819312                       흠 포스터보고 초딩영화줄 오버연기조차 가볍지 않구나      1\n",
       "2  10265843                                  너무재밓었다그래서보는것을추천한다      0\n",
       "3   9045019                        교도소 이야기구먼  솔직히 재미는 없다 평점 조정      0\n",
       "4   6483659  사이몬페그의 익살스런 연기가 돋보였던 영화 스파이더맨에서 늙어보이기만 했던 커스틴 ...      1"
      ]
     },
     "execution_count": 39,
     "metadata": {},
     "output_type": "execute_result"
    }
   ],
   "source": [
    "nsmc_train_df['document'] = nsmc_train_df['document'].apply(lambda x : re.sub(r'[^ ㄱ-ㅣ가-힣]+', \" \", x))\n",
    "nsmc_train_df.head()"
   ]
  },
  {
   "cell_type": "code",
   "execution_count": 41,
   "metadata": {},
   "outputs": [
    {
     "data": {
      "text/html": [
       "<div>\n",
       "<style scoped>\n",
       "    .dataframe tbody tr th:only-of-type {\n",
       "        vertical-align: middle;\n",
       "    }\n",
       "\n",
       "    .dataframe tbody tr th {\n",
       "        vertical-align: top;\n",
       "    }\n",
       "\n",
       "    .dataframe thead th {\n",
       "        text-align: right;\n",
       "    }\n",
       "</style>\n",
       "<table border=\"1\" class=\"dataframe\">\n",
       "  <thead>\n",
       "    <tr style=\"text-align: right;\">\n",
       "      <th></th>\n",
       "      <th>id</th>\n",
       "      <th>document</th>\n",
       "      <th>label</th>\n",
       "    </tr>\n",
       "  </thead>\n",
       "  <tbody>\n",
       "    <tr>\n",
       "      <th>0</th>\n",
       "      <td>6270596</td>\n",
       "      <td>굳 ㅋ</td>\n",
       "      <td>1</td>\n",
       "    </tr>\n",
       "    <tr>\n",
       "      <th>1</th>\n",
       "      <td>9274899</td>\n",
       "      <td>GDNTOPCLASSINTHECLUB</td>\n",
       "      <td>0</td>\n",
       "    </tr>\n",
       "    <tr>\n",
       "      <th>2</th>\n",
       "      <td>8544678</td>\n",
       "      <td>뭐야 이 평점들은.... 나쁘진 않지만 10점 짜리는 더더욱 아니잖아</td>\n",
       "      <td>0</td>\n",
       "    </tr>\n",
       "    <tr>\n",
       "      <th>3</th>\n",
       "      <td>6825595</td>\n",
       "      <td>지루하지는 않은데 완전 막장임... 돈주고 보기에는....</td>\n",
       "      <td>0</td>\n",
       "    </tr>\n",
       "    <tr>\n",
       "      <th>4</th>\n",
       "      <td>6723715</td>\n",
       "      <td>3D만 아니었어도 별 다섯 개 줬을텐데.. 왜 3D로 나와서 제 심기를 불편하게 하죠??</td>\n",
       "      <td>0</td>\n",
       "    </tr>\n",
       "  </tbody>\n",
       "</table>\n",
       "</div>"
      ],
      "text/plain": [
       "        id                                           document  label\n",
       "0  6270596                                                굳 ㅋ      1\n",
       "1  9274899                               GDNTOPCLASSINTHECLUB      0\n",
       "2  8544678             뭐야 이 평점들은.... 나쁘진 않지만 10점 짜리는 더더욱 아니잖아      0\n",
       "3  6825595                   지루하지는 않은데 완전 막장임... 돈주고 보기에는....      0\n",
       "4  6723715  3D만 아니었어도 별 다섯 개 줬을텐데.. 왜 3D로 나와서 제 심기를 불편하게 하죠??      0"
      ]
     },
     "execution_count": 41,
     "metadata": {},
     "output_type": "execute_result"
    }
   ],
   "source": [
    "nsmc_test_df = pd.read_csv('/Users/choeyeongseo/Documents/ubuntu/python/학교/3-2 데이터과학/week12/13장_data/ratings_test.txt', encoding='utf8', sep='\\t', engine='python')\n",
    "nsmc_test_df.head()"
   ]
  },
  {
   "cell_type": "code",
   "execution_count": 42,
   "metadata": {},
   "outputs": [],
   "source": [
    "nsmc_test_df = nsmc_test_df[nsmc_test_df['document'].notnull()]"
   ]
  },
  {
   "cell_type": "code",
   "execution_count": 43,
   "metadata": {},
   "outputs": [],
   "source": [
    "nsmc_test_df['document'] = nsmc_test_df['document'].apply(lambda x : re.sub(r'[^ ㄱ-ㅣ가-힣]+', \"\", x))"
   ]
  },
  {
   "cell_type": "code",
   "execution_count": 44,
   "metadata": {},
   "outputs": [],
   "source": [
    "from konlpy.tag import Okt\n",
    "\n",
    "okt = Okt()"
   ]
  },
  {
   "cell_type": "code",
   "execution_count": 45,
   "metadata": {},
   "outputs": [],
   "source": [
    "def okt_tokenizer(text):\n",
    "    tokens = okt.morphs(text)\n",
    "    return tokens"
   ]
  },
  {
   "cell_type": "code",
   "execution_count": 47,
   "metadata": {},
   "outputs": [],
   "source": [
    "from sklearn.feature_extraction.text import TfidfVectorizer\n",
    "\n",
    "tfidf = TfidfVectorizer(tokenizer = okt_tokenizer, ngram_range=(1,2), min_df=3, max_df=0.9)\n",
    "tfidf.fit(nsmc_train_df['document'])\n",
    "nsmc_train_tfidf = tfidf.transform(nsmc_train_df['document'])"
   ]
  },
  {
   "cell_type": "code",
   "execution_count": 48,
   "metadata": {},
   "outputs": [],
   "source": [
    "from sklearn.linear_model import LogisticRegression\n",
    "\n",
    "SA_lr = LogisticRegression(random_state = 0)"
   ]
  },
  {
   "cell_type": "code",
   "execution_count": 49,
   "metadata": {},
   "outputs": [
    {
     "data": {
      "text/plain": [
       "LogisticRegression(random_state=0)"
      ]
     },
     "execution_count": 49,
     "metadata": {},
     "output_type": "execute_result"
    }
   ],
   "source": [
    "SA_lr.fit(nsmc_train_tfidf, nsmc_train_df['label'])"
   ]
  },
  {
   "cell_type": "code",
   "execution_count": 50,
   "metadata": {},
   "outputs": [],
   "source": [
    "from sklearn.model_selection import GridSearchCV\n",
    "\n",
    "params = {'C': [1, 3, 3.5, 4, 4.5, 5]}\n",
    "SA_lr_grid_cv = GridSearchCV(SA_lr, param_grid=params, cv=3, scoring='accuracy', verbose=1)"
   ]
  },
  {
   "cell_type": "code",
   "execution_count": 51,
   "metadata": {},
   "outputs": [
    {
     "name": "stdout",
     "output_type": "stream",
     "text": [
      "Fitting 3 folds for each of 6 candidates, totalling 18 fits\n"
     ]
    },
    {
     "data": {
      "text/plain": [
       "GridSearchCV(cv=3, estimator=LogisticRegression(random_state=0),\n",
       "             param_grid={'C': [1, 3, 3.5, 4, 4.5, 5]}, scoring='accuracy',\n",
       "             verbose=1)"
      ]
     },
     "execution_count": 51,
     "metadata": {},
     "output_type": "execute_result"
    }
   ],
   "source": [
    "SA_lr_grid_cv.fit(nsmc_train_tfidf, nsmc_train_df['label'])"
   ]
  },
  {
   "cell_type": "code",
   "execution_count": 52,
   "metadata": {},
   "outputs": [],
   "source": [
    "# 최적 파라미터의 best 모델 저장\n",
    "SA_lr_best = SA_lr_grid_cv.best_estimator_"
   ]
  },
  {
   "cell_type": "code",
   "execution_count": 92,
   "metadata": {},
   "outputs": [
    {
     "data": {
      "text/html": [
       "<div>\n",
       "<style scoped>\n",
       "    .dataframe tbody tr th:only-of-type {\n",
       "        vertical-align: middle;\n",
       "    }\n",
       "\n",
       "    .dataframe tbody tr th {\n",
       "        vertical-align: top;\n",
       "    }\n",
       "\n",
       "    .dataframe thead th {\n",
       "        text-align: right;\n",
       "    }\n",
       "</style>\n",
       "<table border=\"1\" class=\"dataframe\">\n",
       "  <thead>\n",
       "    <tr style=\"text-align: right;\">\n",
       "      <th></th>\n",
       "      <th>review</th>\n",
       "      <th>contents</th>\n",
       "    </tr>\n",
       "  </thead>\n",
       "  <tbody>\n",
       "    <tr>\n",
       "      <th>0</th>\n",
       "      <td>범죄도시 시사회 다녀와서 느낀 진짜 실화 평 드립니다.</td>\n",
       "      <td>범죄도시 시사회 다녀와서 느낀 진짜 실화 평 드립니다.어제 잠실 롯데월드몰 저녁 6...</td>\n",
       "    </tr>\n",
       "    <tr>\n",
       "      <th>1</th>\n",
       "      <td>진짜 재미없음</td>\n",
       "      <td>누가 베테랑급이랬니? 니 그라믄 아이댄다연출이 개떡같은데 마동석이라는 캐릭터로 억지...</td>\n",
       "    </tr>\n",
       "    <tr>\n",
       "      <th>2</th>\n",
       "      <td>범죄도시 : 마동석씨와 윤계상씨가 간신히 떠받치고 있었던 청불 조폭 영화</td>\n",
       "      <td>강윤성 감독 / 121분 / 청소년 관람불가마동석, 윤계상, 조재윤, 최귀화, 임형...</td>\n",
       "    </tr>\n",
       "    <tr>\n",
       "      <th>3</th>\n",
       "      <td>[범죄도시 VIP 시사회 후기] 진짜 대박대박 !!!</td>\n",
       "      <td>범죄도시 시사회 다녀왔어요!솔직히 이거 시사회 가자고했을 땐 별 기대 안했는데......</td>\n",
       "    </tr>\n",
       "    <tr>\n",
       "      <th>4</th>\n",
       "      <td>기대이상! 킬링타임용으로 생각했는데 대작에 낚임</td>\n",
       "      <td>마요미와 윤계상 ㅋㅋㅋㅋㅋㅋㅋㅋㅋㅋㅋ아오 포스터랑 예고편이 다 못살림 ㅠㅠ같이본 ...</td>\n",
       "    </tr>\n",
       "  </tbody>\n",
       "</table>\n",
       "</div>"
      ],
      "text/plain": [
       "                                     review  \\\n",
       "0            범죄도시 시사회 다녀와서 느낀 진짜 실화 평 드립니다.   \n",
       "1                                   진짜 재미없음   \n",
       "2  범죄도시 : 마동석씨와 윤계상씨가 간신히 떠받치고 있었던 청불 조폭 영화   \n",
       "3             [범죄도시 VIP 시사회 후기] 진짜 대박대박 !!!   \n",
       "4                기대이상! 킬링타임용으로 생각했는데 대작에 낚임   \n",
       "\n",
       "                                            contents  \n",
       "0  범죄도시 시사회 다녀와서 느낀 진짜 실화 평 드립니다.어제 잠실 롯데월드몰 저녁 6...  \n",
       "1  누가 베테랑급이랬니? 니 그라믄 아이댄다연출이 개떡같은데 마동석이라는 캐릭터로 억지...  \n",
       "2  강윤성 감독 / 121분 / 청소년 관람불가마동석, 윤계상, 조재윤, 최귀화, 임형...  \n",
       "3  범죄도시 시사회 다녀왔어요!솔직히 이거 시사회 가자고했을 땐 별 기대 안했는데......  \n",
       "4   마요미와 윤계상 ㅋㅋㅋㅋㅋㅋㅋㅋㅋㅋㅋ아오 포스터랑 예고편이 다 못살림 ㅠㅠ같이본 ...  "
      ]
     },
     "execution_count": 92,
     "metadata": {},
     "output_type": "execute_result"
    }
   ],
   "source": [
    "review1.head()"
   ]
  },
  {
   "cell_type": "code",
   "execution_count": 94,
   "metadata": {},
   "outputs": [
    {
     "data": {
      "text/html": [
       "<div>\n",
       "<style scoped>\n",
       "    .dataframe tbody tr th:only-of-type {\n",
       "        vertical-align: middle;\n",
       "    }\n",
       "\n",
       "    .dataframe tbody tr th {\n",
       "        vertical-align: top;\n",
       "    }\n",
       "\n",
       "    .dataframe thead th {\n",
       "        text-align: right;\n",
       "    }\n",
       "</style>\n",
       "<table border=\"1\" class=\"dataframe\">\n",
       "  <thead>\n",
       "    <tr style=\"text-align: right;\">\n",
       "      <th></th>\n",
       "      <th>review</th>\n",
       "      <th>contents</th>\n",
       "    </tr>\n",
       "  </thead>\n",
       "  <tbody>\n",
       "    <tr>\n",
       "      <th>0</th>\n",
       "      <td>내가 손석구다! 마동석 나와! 윤계상의 전작을 뛰어넘는 영화 범죄도시2, 실화 필리...</td>\n",
       "      <td>박스오피스 6,879,841명으로 역대 박스오피스 47위(2022년 6월 기준)를 ...</td>\n",
       "    </tr>\n",
       "    <tr>\n",
       "      <th>1</th>\n",
       "      <td>[스포 x] 걱정마세요, 마동석입니다. : 범죄도시2(2022) 메가박스 회원 시사...</td>\n",
       "      <td>cgv와 메가박스 모두 범죄도시2 시사회를 진행하길래 두 개 다 신청했는데 신기하게...</td>\n",
       "    </tr>\n",
       "    <tr>\n",
       "      <th>2</th>\n",
       "      <td>[범죄도시2]&lt;시사회&gt;(34번째) 아는 맛이 무서운 법!! 1편 능가할듯?!</td>\n",
       "      <td>20220511코엑스 메가박스 9-N-8익무 시사회4.3/5 \"느낌 오지? 이 놈 ...</td>\n",
       "    </tr>\n",
       "    <tr>\n",
       "      <th>3</th>\n",
       "      <td>영화 범죄도시2 줄거리 결말 손석구 악당이지만 매력적이다</td>\n",
       "      <td>영화 범죄도시2 줄거리 결말 손석구 악당이지만 매력적이다지난 주말 오랜만에 와이프랑...</td>\n",
       "    </tr>\n",
       "    <tr>\n",
       "      <th>4</th>\n",
       "      <td>영화 범죄도시2 [가족영화추천]</td>\n",
       "      <td>범죄도시2      감독   이상용   출연   마동석, 손석구, 최귀...</td>\n",
       "    </tr>\n",
       "  </tbody>\n",
       "</table>\n",
       "</div>"
      ],
      "text/plain": [
       "                                              review  \\\n",
       "0  내가 손석구다! 마동석 나와! 윤계상의 전작을 뛰어넘는 영화 범죄도시2, 실화 필리...   \n",
       "1  [스포 x] 걱정마세요, 마동석입니다. : 범죄도시2(2022) 메가박스 회원 시사...   \n",
       "2         [범죄도시2]<시사회>(34번째) 아는 맛이 무서운 법!! 1편 능가할듯?!   \n",
       "3                    영화 범죄도시2 줄거리 결말 손석구 악당이지만 매력적이다   \n",
       "4                                  영화 범죄도시2 [가족영화추천]   \n",
       "\n",
       "                                            contents  \n",
       "0  박스오피스 6,879,841명으로 역대 박스오피스 47위(2022년 6월 기준)를 ...  \n",
       "1  cgv와 메가박스 모두 범죄도시2 시사회를 진행하길래 두 개 다 신청했는데 신기하게...  \n",
       "2  20220511코엑스 메가박스 9-N-8익무 시사회4.3/5 \"느낌 오지? 이 놈 ...  \n",
       "3  영화 범죄도시2 줄거리 결말 손석구 악당이지만 매력적이다지난 주말 오랜만에 와이프랑...  \n",
       "4         범죄도시2      감독   이상용   출연   마동석, 손석구, 최귀...  "
      ]
     },
     "execution_count": 94,
     "metadata": {},
     "output_type": "execute_result"
    }
   ],
   "source": [
    "review2.head()"
   ]
  },
  {
   "cell_type": "code",
   "execution_count": 95,
   "metadata": {},
   "outputs": [
    {
     "data": {
      "text/html": [
       "<div>\n",
       "<style scoped>\n",
       "    .dataframe tbody tr th:only-of-type {\n",
       "        vertical-align: middle;\n",
       "    }\n",
       "\n",
       "    .dataframe tbody tr th {\n",
       "        vertical-align: top;\n",
       "    }\n",
       "\n",
       "    .dataframe thead th {\n",
       "        text-align: right;\n",
       "    }\n",
       "</style>\n",
       "<table border=\"1\" class=\"dataframe\">\n",
       "  <thead>\n",
       "    <tr style=\"text-align: right;\">\n",
       "      <th></th>\n",
       "      <th>review</th>\n",
       "      <th>contents</th>\n",
       "    </tr>\n",
       "  </thead>\n",
       "  <tbody>\n",
       "    <tr>\n",
       "      <th>0</th>\n",
       "      <td>범죄도시 시사회 다녀와서 느낀 진짜 실화 평 드립니다</td>\n",
       "      <td>범죄도시 시사회 다녀와서 느낀 진짜 실화 평 드립니다 어제 잠실 롯데월드몰 저녁  ...</td>\n",
       "    </tr>\n",
       "    <tr>\n",
       "      <th>1</th>\n",
       "      <td>진짜 재미없음</td>\n",
       "      <td>누가 베테랑급이랬니  니 그라믄 아이댄다연출이 개떡같은데 마동석이라는 캐릭터로 억지...</td>\n",
       "    </tr>\n",
       "    <tr>\n",
       "      <th>2</th>\n",
       "      <td>범죄도시   마동석씨와 윤계상씨가 간신히 떠받치고 있었던 청불 조폭 영화</td>\n",
       "      <td>강윤성 감독    분   청소년 관람불가마동석  윤계상  조재윤  최귀화  임형준 ...</td>\n",
       "    </tr>\n",
       "    <tr>\n",
       "      <th>3</th>\n",
       "      <td>범죄도시   시사회 후기  진짜 대박대박</td>\n",
       "      <td>범죄도시 시사회 다녀왔어요 솔직히 이거 시사회 가자고했을 땐 별 기대 안했는데 이렇...</td>\n",
       "    </tr>\n",
       "    <tr>\n",
       "      <th>4</th>\n",
       "      <td>기대이상  킬링타임용으로 생각했는데 대작에 낚임</td>\n",
       "      <td>마요미와 윤계상 ㅋㅋㅋㅋㅋㅋㅋㅋㅋㅋㅋ아오 포스터랑 예고편이 다 못살림 ㅠㅠ같이본 ...</td>\n",
       "    </tr>\n",
       "  </tbody>\n",
       "</table>\n",
       "</div>"
      ],
      "text/plain": [
       "                                     review  \\\n",
       "0            범죄도시 시사회 다녀와서 느낀 진짜 실화 평 드립니다    \n",
       "1                                   진짜 재미없음   \n",
       "2  범죄도시   마동석씨와 윤계상씨가 간신히 떠받치고 있었던 청불 조폭 영화   \n",
       "3                  범죄도시   시사회 후기  진짜 대박대박     \n",
       "4                기대이상  킬링타임용으로 생각했는데 대작에 낚임   \n",
       "\n",
       "                                            contents  \n",
       "0  범죄도시 시사회 다녀와서 느낀 진짜 실화 평 드립니다 어제 잠실 롯데월드몰 저녁  ...  \n",
       "1  누가 베테랑급이랬니  니 그라믄 아이댄다연출이 개떡같은데 마동석이라는 캐릭터로 억지...  \n",
       "2  강윤성 감독    분   청소년 관람불가마동석  윤계상  조재윤  최귀화  임형준 ...  \n",
       "3  범죄도시 시사회 다녀왔어요 솔직히 이거 시사회 가자고했을 땐 별 기대 안했는데 이렇...  \n",
       "4   마요미와 윤계상 ㅋㅋㅋㅋㅋㅋㅋㅋㅋㅋㅋ아오 포스터랑 예고편이 다 못살림 ㅠㅠ같이본 ...  "
      ]
     },
     "execution_count": 95,
     "metadata": {},
     "output_type": "execute_result"
    }
   ],
   "source": [
    "review1[\"review\"] = review1[\"review\"].apply(lambda x: re.sub(r\"[^ ㄱ-ㅣ가-힣]+\", \" \", str(x)))\n",
    "review1[\"contents\"] = review1[\"contents\"].apply(lambda x: re.sub(r\"[^ ㄱ-ㅣ가-힣]+\", \" \", str(x)))\n",
    "\n",
    "review1.head()"
   ]
  },
  {
   "cell_type": "code",
   "execution_count": 96,
   "metadata": {},
   "outputs": [
    {
     "data": {
      "text/html": [
       "<div>\n",
       "<style scoped>\n",
       "    .dataframe tbody tr th:only-of-type {\n",
       "        vertical-align: middle;\n",
       "    }\n",
       "\n",
       "    .dataframe tbody tr th {\n",
       "        vertical-align: top;\n",
       "    }\n",
       "\n",
       "    .dataframe thead th {\n",
       "        text-align: right;\n",
       "    }\n",
       "</style>\n",
       "<table border=\"1\" class=\"dataframe\">\n",
       "  <thead>\n",
       "    <tr style=\"text-align: right;\">\n",
       "      <th></th>\n",
       "      <th>review</th>\n",
       "      <th>contents</th>\n",
       "    </tr>\n",
       "  </thead>\n",
       "  <tbody>\n",
       "    <tr>\n",
       "      <th>0</th>\n",
       "      <td>내가 손석구다  마동석 나와  윤계상의 전작을 뛰어넘는 영화 범죄도시  실화 필리핀...</td>\n",
       "      <td>박스오피스  명으로 역대 박스오피스  위 년  월 기준 를 기록한 영화 범죄도시  ...</td>\n",
       "    </tr>\n",
       "    <tr>\n",
       "      <th>1</th>\n",
       "      <td>스포   걱정마세요  마동석입니다    범죄도시  메가박스 회원 시사회 후기</td>\n",
       "      <td>와 메가박스 모두 범죄도시  시사회를 진행하길래 두 개 다 신청했는데 신기하게도 ...</td>\n",
       "    </tr>\n",
       "    <tr>\n",
       "      <th>2</th>\n",
       "      <td>범죄도시 시사회 번째  아는 맛이 무서운 법   편 능가할듯</td>\n",
       "      <td>코엑스 메가박스  익무 시사회   느낌 오지  이 놈 잡아야 하는 거 가리봉동 소...</td>\n",
       "    </tr>\n",
       "    <tr>\n",
       "      <th>3</th>\n",
       "      <td>영화 범죄도시  줄거리 결말 손석구 악당이지만 매력적이다</td>\n",
       "      <td>영화 범죄도시  줄거리 결말 손석구 악당이지만 매력적이다지난 주말 오랜만에 와이프랑...</td>\n",
       "    </tr>\n",
       "    <tr>\n",
       "      <th>4</th>\n",
       "      <td>영화 범죄도시   가족영화추천</td>\n",
       "      <td>범죄도시       감독   이상용   출연   마동석  손석구  최귀...</td>\n",
       "    </tr>\n",
       "  </tbody>\n",
       "</table>\n",
       "</div>"
      ],
      "text/plain": [
       "                                              review  \\\n",
       "0  내가 손석구다  마동석 나와  윤계상의 전작을 뛰어넘는 영화 범죄도시  실화 필리핀...   \n",
       "1        스포   걱정마세요  마동석입니다    범죄도시  메가박스 회원 시사회 후기    \n",
       "2                 범죄도시 시사회 번째  아는 맛이 무서운 법   편 능가할듯    \n",
       "3                    영화 범죄도시  줄거리 결말 손석구 악당이지만 매력적이다   \n",
       "4                                  영화 범죄도시   가족영화추천    \n",
       "\n",
       "                                            contents  \n",
       "0  박스오피스  명으로 역대 박스오피스  위 년  월 기준 를 기록한 영화 범죄도시  ...  \n",
       "1   와 메가박스 모두 범죄도시  시사회를 진행하길래 두 개 다 신청했는데 신기하게도 ...  \n",
       "2   코엑스 메가박스  익무 시사회   느낌 오지  이 놈 잡아야 하는 거 가리봉동 소...  \n",
       "3  영화 범죄도시  줄거리 결말 손석구 악당이지만 매력적이다지난 주말 오랜만에 와이프랑...  \n",
       "4         범죄도시       감독   이상용   출연   마동석  손석구  최귀...  "
      ]
     },
     "execution_count": 96,
     "metadata": {},
     "output_type": "execute_result"
    }
   ],
   "source": [
    "review2[\"review\"] = review2[\"review\"].apply(lambda x: re.sub(r\"[^ ㄱ-ㅣ가-힣]+\", \" \", str(x)))\n",
    "review2[\"contents\"] = review2[\"contents\"].apply(lambda x: re.sub(r\"[^ ㄱ-ㅣ가-힣]+\", \" \", str(x)))\n",
    "\n",
    "review2.head()"
   ]
  },
  {
   "cell_type": "code",
   "execution_count": 97,
   "metadata": {},
   "outputs": [],
   "source": [
    "data_title_tfidf = tfidf.transform(review1['review'])\n",
    "data_title_predict = SA_lr_best.predict(data_title_tfidf)\n",
    "review1['review_label'] = data_title_predict"
   ]
  },
  {
   "cell_type": "code",
   "execution_count": 98,
   "metadata": {},
   "outputs": [],
   "source": [
    "data_title_tfidf = tfidf.transform(review2['review'])\n",
    "data_title_predict = SA_lr_best.predict(data_title_tfidf)\n",
    "review2['review_label'] = data_title_predict"
   ]
  },
  {
   "cell_type": "code",
   "execution_count": 99,
   "metadata": {},
   "outputs": [],
   "source": [
    "data_description_tfidf = tfidf.transform(review1['contents'])\n",
    "data_description_predict = SA_lr_best.predict(data_description_tfidf)\n",
    "review1['contents_label'] = data_description_predict"
   ]
  },
  {
   "cell_type": "code",
   "execution_count": 101,
   "metadata": {},
   "outputs": [],
   "source": [
    "data_description_tfidf = tfidf.transform(review2['contents'])\n",
    "data_description_predict = SA_lr_best.predict(data_description_tfidf)\n",
    "review2['contents_label'] = data_description_predict"
   ]
  },
  {
   "cell_type": "code",
   "execution_count": 102,
   "metadata": {},
   "outputs": [],
   "source": [
    "review1.to_csv('./review1.csv', encoding='euc-kr') \n",
    "review2.to_csv('./review2.csv', encoding='euc-kr') "
   ]
  },
  {
   "cell_type": "code",
   "execution_count": 103,
   "metadata": {},
   "outputs": [
    {
     "name": "stdout",
     "output_type": "stream",
     "text": [
      "0    573\n",
      "1    413\n",
      "Name: review_label, dtype: int64\n",
      "0    78\n",
      "1    34\n",
      "Name: review_label, dtype: int64\n"
     ]
    }
   ],
   "source": [
    "print(review1[\"review_label\"].value_counts())\n",
    "print(review2[\"review_label\"].value_counts())"
   ]
  },
  {
   "cell_type": "code",
   "execution_count": 104,
   "metadata": {},
   "outputs": [
    {
     "name": "stdout",
     "output_type": "stream",
     "text": [
      "1    583\n",
      "0    403\n",
      "Name: contents_label, dtype: int64\n",
      "0    77\n",
      "1    35\n",
      "Name: contents_label, dtype: int64\n"
     ]
    }
   ],
   "source": [
    "print(review1['contents_label'].value_counts())\n",
    "print(review2['contents_label'].value_counts())"
   ]
  },
  {
   "cell_type": "code",
   "execution_count": 106,
   "metadata": {},
   "outputs": [],
   "source": [
    "# 범죄도시 1\n",
    "columns_name = ['review','review_label','contents','contents_label']\n",
    "NEG_data_df1 = pd.DataFrame(columns=columns_name)\n",
    "POS_data_df1 = pd.DataFrame(columns=columns_name)\n",
    "\n",
    "for i, data in review1.iterrows(): \n",
    "    title = data[\"review\"] \n",
    "    description = data[\"contents\"] \n",
    "    t_label = data[\"review_label\"] \n",
    "    d_label = data[\"contents_label\"] \n",
    "    \n",
    "    if d_label == 0: # 부정 감성 샘플만 추출\n",
    "        NEG_data_df1 = NEG_data_df1.append(pd.DataFrame([[title, t_label, description, d_label]],columns=columns_name),ignore_index=True)\n",
    "    else : # 긍정 감성 샘플만 추출\n",
    "        POS_data_df1 = POS_data_df1.append(pd.DataFrame([[title, t_label, description, d_label]],columns=columns_name),ignore_index=True)\n",
    "     \n",
    "# 파일에 저장.\n",
    "NEG_data_df1.to_csv('./NES1.csv', encoding='euc-kr') \n",
    "POS_data_df1.to_csv('./POS1.csv', encoding='euc-kr') \n",
    "\n",
    "# 범죄도시2\n",
    "columns_name = ['review','review_label','contents','contents_label']\n",
    "NEG_data_df2 = pd.DataFrame(columns=columns_name)\n",
    "POS_data_df2 = pd.DataFrame(columns=columns_name)\n",
    "\n",
    "for i, data in review2.iterrows(): \n",
    "    title = data[\"review\"] \n",
    "    description = data[\"contents\"] \n",
    "    t_label = data[\"review_label\"] \n",
    "    d_label = data[\"contents_label\"] \n",
    "    \n",
    "    if d_label == 0: # 부정 감성 샘플만 추출\n",
    "        NEG_data_df2 = NEG_data_df2.append(pd.DataFrame([[title, t_label, description, d_label]],columns=columns_name),ignore_index=True)\n",
    "    else : # 긍정 감성 샘플만 추출\n",
    "        POS_data_df2 = POS_data_df2.append(pd.DataFrame([[title, t_label, description, d_label]],columns=columns_name),ignore_index=True)\n",
    "     \n",
    "# 파일에 저장.\n",
    "NEG_data_df2.to_csv('./NES2.csv', encoding='euc-kr') \n",
    "POS_data_df2.to_csv('./POS2.csv', encoding='euc-kr') "
   ]
  },
  {
   "cell_type": "code",
   "execution_count": 111,
   "metadata": {},
   "outputs": [
    {
     "name": "stdout",
     "output_type": "stream",
     "text": [
      "범죄도시1\n",
      "긍정:403, 부정:583\n",
      "범죄도시2\n",
      "긍정:77, 부정:35\n"
     ]
    }
   ],
   "source": [
    "print(f\"범죄도시1\\n긍정:{len(NEG_data_df1)}, 부정:{len(POS_data_df1)}\")\n",
    "print(f\"범죄도시2\\n긍정:{len(NEG_data_df2)}, 부정:{len(POS_data_df2)}\")"
   ]
  }
 ],
 "metadata": {
  "kernelspec": {
   "display_name": "Python 3.7.13 ('tensorflow')",
   "language": "python",
   "name": "python3"
  },
  "language_info": {
   "codemirror_mode": {
    "name": "ipython",
    "version": 3
   },
   "file_extension": ".py",
   "mimetype": "text/x-python",
   "name": "python",
   "nbconvert_exporter": "python",
   "pygments_lexer": "ipython3",
   "version": "3.7.13"
  },
  "orig_nbformat": 4,
  "vscode": {
   "interpreter": {
    "hash": "6e39840d04b079b2aa8400e5db30cffeba95ea714853962accf5f0802810473c"
   }
  }
 },
 "nbformat": 4,
 "nbformat_minor": 2
}
